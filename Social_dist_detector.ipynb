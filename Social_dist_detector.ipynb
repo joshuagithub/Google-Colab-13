{
  "nbformat": 4,
  "nbformat_minor": 0,
  "metadata": {
    "colab": {
      "name": "Social_dist_detector.ipynb",
      "provenance": [],
      "collapsed_sections": [],
      "mount_file_id": "1j0S4gFJJlrd0zTpapZOdta5I9bDUxhqO",
      "authorship_tag": "ABX9TyOMfcgsoQBbKK+EBxzgFrxi",
      "include_colab_link": true
    },
    "kernelspec": {
      "name": "python3",
      "display_name": "Python 3"
    }
  },
  "cells": [
    {
      "cell_type": "markdown",
      "metadata": {
        "id": "view-in-github",
        "colab_type": "text"
      },
      "source": [
        "<a href=\"https://colab.research.google.com/github/sudhir2016/Google-Colab-13/blob/master/Social_dist_detector.ipynb\" target=\"_parent\"><img src=\"https://colab.research.google.com/assets/colab-badge.svg\" alt=\"Open In Colab\"/></a>"
      ]
    },
    {
      "cell_type": "markdown",
      "metadata": {
        "id": "hbSYn98V7K-y",
        "colab_type": "text"
      },
      "source": [
        "Load cv2 numpy and matplotlib."
      ]
    },
    {
      "cell_type": "code",
      "metadata": {
        "id": "oQtOMqOg7L2t",
        "colab_type": "code",
        "colab": {}
      },
      "source": [
        "import cv2\n",
        "import numpy as np\n",
        "import matplotlib.pyplot as plt"
      ],
      "execution_count": 0,
      "outputs": []
    },
    {
      "cell_type": "markdown",
      "metadata": {
        "id": "12efHFBjZm5p",
        "colab_type": "text"
      },
      "source": [
        "Read and show image."
      ]
    },
    {
      "cell_type": "code",
      "metadata": {
        "id": "wYIvyj_3svIt",
        "colab_type": "code",
        "colab": {}
      },
      "source": [
        "img=cv2.imread('India_image3.jpg')"
      ],
      "execution_count": 0,
      "outputs": []
    },
    {
      "cell_type": "code",
      "metadata": {
        "id": "_aWaBtemtHU3",
        "colab_type": "code",
        "colab": {}
      },
      "source": [
        "plt.imshow(img)"
      ],
      "execution_count": 0,
      "outputs": []
    },
    {
      "cell_type": "markdown",
      "metadata": {
        "id": "sFfWl46n7vVZ",
        "colab_type": "text"
      },
      "source": [
        "resize image and create a blob."
      ]
    },
    {
      "cell_type": "code",
      "metadata": {
        "id": "AQwEJnAe5UmT",
        "colab_type": "code",
        "colab": {}
      },
      "source": [
        "img = cv2.resize(img,None,fx=0.4, fy=0.4)"
      ],
      "execution_count": 0,
      "outputs": []
    },
    {
      "cell_type": "code",
      "metadata": {
        "id": "wiqYGQUo5_QE",
        "colab_type": "code",
        "colab": {}
      },
      "source": [
        "height,width,channels=img.shape"
      ],
      "execution_count": 0,
      "outputs": []
    },
    {
      "cell_type": "code",
      "metadata": {
        "id": "mz37ACHk6vFF",
        "colab_type": "code",
        "colab": {}
      },
      "source": [
        "blob = cv2.dnn.blobFromImage(img, 1/255.0, (416, 416))"
      ],
      "execution_count": 0,
      "outputs": []
    },
    {
      "cell_type": "markdown",
      "metadata": {
        "id": "hkOiStda74yE",
        "colab_type": "text"
      },
      "source": [
        "You can use this command to get yolo3 weights. You also need coco names and yolo3 config files."
      ]
    },
    {
      "cell_type": "code",
      "metadata": {
        "id": "O24dRO-g9N_W",
        "colab_type": "code",
        "colab": {}
      },
      "source": [
        "#!wget https://pjreddie.com/media/files/yolov3.weights"
      ],
      "execution_count": 0,
      "outputs": []
    },
    {
      "cell_type": "markdown",
      "metadata": {
        "id": "9Ro85udg8ZfG",
        "colab_type": "text"
      },
      "source": [
        "Get 80 object labels from coco.names"
      ]
    },
    {
      "cell_type": "code",
      "metadata": {
        "id": "Hd1TSJDd7TZQ",
        "colab_type": "code",
        "colab": {}
      },
      "source": [
        "label=[]"
      ],
      "execution_count": 0,
      "outputs": []
    },
    {
      "cell_type": "code",
      "metadata": {
        "id": "IDTznJ9HeR5O",
        "colab_type": "code",
        "colab": {}
      },
      "source": [
        "file=open('coco.names')\n",
        "for line in file:\n",
        "  line1=line.strip()\n",
        "  label.append(line1)"
      ],
      "execution_count": 0,
      "outputs": []
    },
    {
      "cell_type": "code",
      "metadata": {
        "id": "qd1LBFnJII_A",
        "colab_type": "code",
        "colab": {}
      },
      "source": [
        "print(label)"
      ],
      "execution_count": 0,
      "outputs": []
    },
    {
      "cell_type": "code",
      "metadata": {
        "id": "H1SnzwC3TAVy",
        "colab_type": "code",
        "colab": {}
      },
      "source": [
        "len(label)"
      ],
      "execution_count": 0,
      "outputs": []
    },
    {
      "cell_type": "markdown",
      "metadata": {
        "id": "GXjp2q3E8upv",
        "colab_type": "text"
      },
      "source": [
        "Prepare yolo3 model."
      ]
    },
    {
      "cell_type": "code",
      "metadata": {
        "id": "iHu6uOiszRCT",
        "colab_type": "code",
        "colab": {}
      },
      "source": [
        "net = cv2.dnn.readNet(\"/content/drive/My Drive/yolov3.weights\", \"yolov3.cfg\")"
      ],
      "execution_count": 0,
      "outputs": []
    },
    {
      "cell_type": "markdown",
      "metadata": {
        "id": "M6iqvr9l80PP",
        "colab_type": "text"
      },
      "source": [
        "Feed blob to model."
      ]
    },
    {
      "cell_type": "code",
      "metadata": {
        "id": "YPL5R16p1dM8",
        "colab_type": "code",
        "colab": {}
      },
      "source": [
        "net.setInput(blob)"
      ],
      "execution_count": 0,
      "outputs": []
    },
    {
      "cell_type": "markdown",
      "metadata": {
        "id": "Q_6Q3GTT850A",
        "colab_type": "text"
      },
      "source": [
        "Identify output layers of model, run blob on model and retrieve output."
      ]
    },
    {
      "cell_type": "code",
      "metadata": {
        "id": "gZIVF5IO0oxa",
        "colab_type": "code",
        "colab": {}
      },
      "source": [
        "output_layers=net.getUnconnectedOutLayersNames()"
      ],
      "execution_count": 0,
      "outputs": []
    },
    {
      "cell_type": "code",
      "metadata": {
        "id": "RpV4ewQk0yMg",
        "colab_type": "code",
        "colab": {}
      },
      "source": [
        "print(output_layers)"
      ],
      "execution_count": 0,
      "outputs": []
    },
    {
      "cell_type": "code",
      "metadata": {
        "id": "dLfeKIFV1e9-",
        "colab_type": "code",
        "colab": {}
      },
      "source": [
        "output = net.forward(output_layers)"
      ],
      "execution_count": 0,
      "outputs": []
    },
    {
      "cell_type": "code",
      "metadata": {
        "id": "21UZ5a80gU_x",
        "colab_type": "code",
        "colab": {}
      },
      "source": [
        "len(output)"
      ],
      "execution_count": 0,
      "outputs": []
    },
    {
      "cell_type": "markdown",
      "metadata": {
        "id": "ygy8DrmQaI2J",
        "colab_type": "text"
      },
      "source": [
        "Define empty lists for bounding boxes and their X cordinates."
      ]
    },
    {
      "cell_type": "code",
      "metadata": {
        "id": "CJHCTnSgEM0b",
        "colab_type": "code",
        "colab": {}
      },
      "source": [
        "X=[]\n",
        "boxes=[]"
      ],
      "execution_count": 0,
      "outputs": []
    },
    {
      "cell_type": "markdown",
      "metadata": {
        "id": "pYF3wvJO9fp_",
        "colab_type": "text"
      },
      "source": [
        "Object identified as 'person' has a class ID of 0. Retrieve all bounding box parameters for each person and append in list 'boxes'. List 'X' will contain the X cordinates for each such box."
      ]
    },
    {
      "cell_type": "code",
      "metadata": {
        "id": "kMNtk4ry75ye",
        "colab_type": "code",
        "colab": {}
      },
      "source": [
        "for i in output:\n",
        "    for j in i:\n",
        "        score = j[5:]\n",
        "        class_id = np.argmax(score)\n",
        "        confidence = score[class_id]\n",
        "        if (confidence > 0.5 and class_id==0):           \n",
        "            center_x = int(j[0] * width)\n",
        "            center_y = int(j[1] * height)\n",
        "            w = int(j[2] * width)\n",
        "            h = int(j[3] * height)           \n",
        "            x = int(center_x - w / 2)\n",
        "            y = int(center_y - h / 2)\n",
        "            boxes.append([x, y, w, h])            \n",
        "            X.append(x)"
      ],
      "execution_count": 0,
      "outputs": []
    },
    {
      "cell_type": "markdown",
      "metadata": {
        "id": "8CtGJ35x-WXt",
        "colab_type": "text"
      },
      "source": [
        "Ignoring non max supression as this is a simple image."
      ]
    },
    {
      "cell_type": "code",
      "metadata": {
        "id": "wgmdFqhnYf9W",
        "colab_type": "code",
        "colab": {}
      },
      "source": [
        "#indexes = cv2.dnn.NMSBoxes(boxes, confidences, 0.5, 0.4)"
      ],
      "execution_count": 0,
      "outputs": []
    },
    {
      "cell_type": "code",
      "metadata": {
        "id": "ZnuqOHfRcGlZ",
        "colab_type": "code",
        "colab": {}
      },
      "source": [
        "len(boxes)\n",
        "len(X)"
      ],
      "execution_count": 0,
      "outputs": []
    },
    {
      "cell_type": "markdown",
      "metadata": {
        "id": "v0CD9QRq-_qJ",
        "colab_type": "text"
      },
      "source": [
        "Define empty list 'nsd' for identifying persons who are not in social distance."
      ]
    },
    {
      "cell_type": "code",
      "metadata": {
        "id": "HKo4rQzTCYil",
        "colab_type": "code",
        "colab": {}
      },
      "source": [
        "nsd=[]"
      ],
      "execution_count": 0,
      "outputs": []
    },
    {
      "cell_type": "markdown",
      "metadata": {
        "id": "BXIaWTCG_YmW",
        "colab_type": "text"
      },
      "source": [
        "Use X cordinates of all boxes to calculate distance between persons and identify those not in social distance."
      ]
    },
    {
      "cell_type": "code",
      "metadata": {
        "id": "-KjF3-bnm3n5",
        "colab_type": "code",
        "colab": {}
      },
      "source": [
        "for i in range (3):\n",
        "  for j in range (3):   \n",
        "      X1=X[i]\n",
        "      X2=X[j]\n",
        "      dist=abs(X1-X2)     \n",
        "      if dist<200 and dist !=0:        \n",
        "          nsd.append(i)"
      ],
      "execution_count": 0,
      "outputs": []
    },
    {
      "cell_type": "code",
      "metadata": {
        "id": "BbnRXpw2Chws",
        "colab_type": "code",
        "colab": {}
      },
      "source": [
        "print(nsd)"
      ],
      "execution_count": 0,
      "outputs": []
    },
    {
      "cell_type": "code",
      "metadata": {
        "id": "9HvsgSYeGpid",
        "colab_type": "code",
        "colab": {}
      },
      "source": [
        "nsd=list(dict.fromkeys(nsd))"
      ],
      "execution_count": 0,
      "outputs": []
    },
    {
      "cell_type": "code",
      "metadata": {
        "id": "UDhPZkoqsR80",
        "colab_type": "code",
        "colab": {}
      },
      "source": [
        "font = cv2.FONT_HERSHEY_SIMPLEX"
      ],
      "execution_count": 0,
      "outputs": []
    },
    {
      "cell_type": "markdown",
      "metadata": {
        "id": "2mZXM7Fj_yvA",
        "colab_type": "text"
      },
      "source": [
        "Draw all bounding boxes on image in green."
      ]
    },
    {
      "cell_type": "code",
      "metadata": {
        "id": "G7BQfIBNNhOp",
        "colab_type": "code",
        "colab": {}
      },
      "source": [
        "for i in range(len(boxes)):\n",
        "    x, y, w, h = boxes[i]   \n",
        "    cv2.rectangle(img, (x, y), (x + w, y + h), (0,255,0))    "
      ],
      "execution_count": 0,
      "outputs": []
    },
    {
      "cell_type": "markdown",
      "metadata": {
        "id": "QMVrkuLU_8u9",
        "colab_type": "text"
      },
      "source": [
        "Convert bounding boxes for those who are not in social distance, to red."
      ]
    },
    {
      "cell_type": "code",
      "metadata": {
        "id": "dcrlkdiXh73s",
        "colab_type": "code",
        "colab": {}
      },
      "source": [
        "for i in range(len(boxes)):\n",
        "    x, y, w, h = boxes[i]  \n",
        "    for j in range (len(nsd)):\n",
        "      k=nsd[j]\n",
        "      if k==i:\n",
        "         cv2.rectangle(img, (x, y), (x + w, y + h), (0,0,255))     \n",
        "      "
      ],
      "execution_count": 0,
      "outputs": []
    },
    {
      "cell_type": "code",
      "metadata": {
        "id": "bB7F8j-48Tqq",
        "colab_type": "code",
        "colab": {}
      },
      "source": [
        "plt.imshow(img)"
      ],
      "execution_count": 0,
      "outputs": []
    },
    {
      "cell_type": "code",
      "metadata": {
        "id": "017OMepj2mnY",
        "colab_type": "code",
        "colab": {}
      },
      "source": [
        "cv2.imwrite('out.jpg',img)"
      ],
      "execution_count": 0,
      "outputs": []
    }
  ]
}